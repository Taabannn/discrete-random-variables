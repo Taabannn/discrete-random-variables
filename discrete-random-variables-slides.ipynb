{
 "cells": [
  {
   "cell_type": "markdown",
   "metadata": {
    "id": "k4O0IbnJo1UY"
   },
   "source": [
    "# <font color='green'>Bonus Homework</font>\n",
    "\n",
    "<div class=\"alert alert-block alert-warning\">\n",
    "<b>\n",
    "University of Tehran<br>\n",
    "Spring 2022<br>\n",
    "Course: Performance Evaluation of Computer Systems<br>\n",
    "Instructor: Dr. Ahmad Khonsari<br>\n",
    "Chief TA: Bahereh Hassanpour<br> </b> \n",
    "</div>\n",
    "\n",
    "\n",
    "***"
   ]
  },
  {
   "cell_type": "markdown",
   "metadata": {
    "id": "LaDWQq1Ko1Ub"
   },
   "source": [
    "<div class=\"alert alert-block alert-success\">\n",
    "<b>Author:</b><br>\n",
    "Name: Taban Soleymani <br />\n",
    "Student Number: 810100377\n",
    "</div>\n",
    "\n",
    "***"
   ]
  },
  {
   "cell_type": "markdown",
   "metadata": {
    "id": "xjRbI6Yqo1Ud"
   },
   "source": [
    "# <span style=\"color:purple\">Importing Required Packages</span>"
   ]
  },
  {
   "cell_type": "code",
   "execution_count": 1,
   "metadata": {
    "id": "a3b8nxxHo1Ue"
   },
   "outputs": [],
   "source": [
    "from scipy.stats import bernoulli\n",
    "from scipy.stats import binom\n",
    "from scipy.stats import geom\n",
    "from scipy.stats import nbinom\n",
    "from scipy.stats import poisson\n",
    "\n",
    "import matplotlib.pyplot as plt\n",
    "import seaborn as sb\n",
    "import numpy as np\n"
   ]
  },
  {
   "cell_type": "markdown",
   "metadata": {
    "id": "PTI85ZhUo1Uf"
   },
   "source": [
    "# <span style=\"color:purple\" size=\"16\">Discrete Random Variables</span>"
   ]
  },
  {
   "cell_type": "markdown",
   "metadata": {
    "id": "uS3_e__Ko1Ug"
   },
   "source": [
    "<b><span style=\"color:red\">Slide #2</span>\n",
    "<br><b><span style=\"color:orange\">Calculating the moments</span> of the distribution with the aid of $G(z)=\\sum^{\\infty}_{i=0}p_iz^i$</b> <br />\n",
    "<span>Note: Since the <b>$p_i$</b> represent a probability distribution their sum equals 1 and</span> <br />\n",
    "\\begin{equation*}\n",
    "G(1) = G^{(0)}(1) \\sum^{\\infty}_{i=0}p_i1^i = 1\n",
    "\\end{equation*}\n",
    "<span>By derivation one sees</span>\n",
    "\\begin{equation*}\n",
    "G^{(1)}(z) = \\frac{d}{dz}E[z^x] = E[Xz^{X-1}]\n",
    "\\end{equation*}\n",
    "\n",
    "\\begin{equation*}\n",
    "G^{(1)}(1) = E[X]\n",
    "\\end{equation*}\n",
    "<span>By continuing in the same way one gets</span>\n",
    "\\begin{equation*}\n",
    "\\boxed{G^{(i)}(z) = E[X(X-1)\\dots(X-i+1)] = F_i}\n",
    "\\end{equation*}\n",
    "<span>where $F_i$ is the $i^{th}$ <span style=\"color:orange\">factorial moment.</span>\n",
    "***"
   ]
  },
  {
   "cell_type": "markdown",
   "metadata": {
    "id": "K-8b1xcFo1Ui"
   },
   "source": [
    "<b><span style=\"color:red\">Slide #3</span>\n",
    "<br><span style=\"text-decoration:underline\">The relation between factorial moments and ordinary moments (with respect to the origin)</span> <br />\n",
    "<span>The <span style=\"color:orange\">factorial moments</span> $F_i = E[X(X −1) ···(X −i + 1)]$ and <span style=\"color:orange\">ordinary moments</span> (with resect to the origin) $M_i = E[X^i]$ are related by the linear equations:\n",
    "\\begin{align*}\n",
    "F_1 &= M_1 & M_1 &= F_1\\\\\n",
    "F_2 &= M_2 - M_1 & M_2 &= F_2 + F_1\\\\\n",
    "F_3 &= M_3 - 3M_2 + 2M_1 & M_3 &= F_3 + 3F_2 + F_1\n",
    "\\end{align*}\n",
    "<span>For instance,</span>\n",
    "\\begin{equation*}\n",
    "\\begin{split}\n",
    "F_2 &= G^{(2)}(1) = E[X(X-1)] = E[X^2] - E[X] \\\\\n",
    "&\\Rightarrow M_2 = E[X^2] = F_2 + F_1 = G^{(2)}(1) + G^{(1)}(1) \\\\\n",
    "&\\Rightarrow V[X] = M_2 - M^2_1 = G^{(2)}(1) + G^{(1)}(1) - (G^{(1)}(1))^2 = G^{(1)}(1)(1 - G^{(1)}(1))\n",
    "\\end{split}\n",
    "\\end{equation*}\n",
    "***"
   ]
  },
  {
   "cell_type": "markdown",
   "metadata": {
    "id": "a9JaRl2Ao1Uk"
   },
   "source": [
    "<b><span style=\"color:red\">Slide #4</span>\n",
    "<br><span style=\"text-decoration:underline\">Direct calculation of the moments</span><br />\n",
    "<span>The moments can also be derived from the generating function directly, without recourse to the factorial moments, as follows:</span><br />\n",
    "\\begin{equation*}\n",
    "\\begin{split}\n",
    "\\frac{d}{dz}G(z)\\Bigg|_{z=1} = E[XZ^X]_{Z=1} = E[X] \\\\\n",
    "\\frac{d}{dz}z\\frac{d}{dz}G(z)\\Bigg|_{z=1} = E[X^2Z^X]_{Z=1} = E[X^2]\n",
    "\\end{split}\n",
    "\\end{equation*}\n",
    "<span>Generally,</span>\n",
    "\\begin{equation*}\n",
    "E[X^i] = \\frac{d}{dz}\\left(z\\frac{d}{dz}\\right)^{i-1}G(z)\\Bigg|_{z=1} = \\left(z\\frac{d}{dz}\\right)^i G(z)\\Bigg|_{z=1}\n",
    "\\end{equation*}\n",
    "***"
   ]
  },
  {
   "cell_type": "markdown",
   "metadata": {},
   "source": [
    "<b><span style=\"color:red\">Code Section for Slide #2 #3 #4</span><br>\n",
    "<span>see these functions:</span><br>\n",
    "L5_1_S2_probability_generating_func.m<br>\n",
    "L5_1_S2_probability_generating_func_derivation1.m<br>\n",
    "L5_1_S3_factorial_moment.m<br>\n",
    "L5_1_S3_ordinary_moment.m<br>\n",
    "<span>run \"%% slide 2 & 3 & 4\" partition from:</span><br>\n",
    "L5_discrete_rv_main\n",
    "***"
   ]
  },
  {
   "cell_type": "markdown",
   "metadata": {},
   "source": [
    "<b><span style=\"color:red\">Slide #5</span></br>\n",
    "<span style=\"text-decoration:underline\">Generating function of the sum of independent random variables</span><br />\n",
    "\n",
    "Let X and Y be independent random variables. Then <br>\n",
    "$G_{X+Y}(z)=E[z^{X+Y}]=E[z^Xz^Y]$ <br>\n",
    "$= E[z^X]E[z^Y]$ independence <br>\n",
    "$= G_X(z)G_Y(z)$ <br>\n",
    "$G_{X+Y}(z)=G_X(z)G_Y(z)$ <br>\n",
    "In terms of the original discrete distributions<br>\n",
    "$𝑝_𝑖=P[X=i]$ <br>\n",
    "$𝑞_𝑗=P[Y=j]$ <br>\n",
    "the distribution of the sum is obtained by convolution $p ⨀ q$ \n",
    "\n",
    "$P[X + Y = k] = (p ⨀ q)_k = \\sum_{i=0}^k 𝑝_𝑖 𝑞_{𝑘−𝑖}$ \n",
    "\n",
    "Thus, the generating function of a distribution obtained by convolving two distributions is the product of the generating functions of the respective original distributions. \n",
    "***"
   ]
  },
  {
   "cell_type": "markdown",
   "metadata": {},
   "source": [
    "<b><span style=\"color:red\">Code Section for Slide #5</span>\n",
    "<br><span>run \"%% slide 5\" partition from:</span>\n",
    "<br>L5_discrete_rv_main\n",
    "***"
   ]
  },
  {
   "cell_type": "markdown",
   "metadata": {},
   "source": [
    "<b><span style=\"color:red\">Slide #6</span><br>\n",
    "<span style=\"text-decoration:underline\">Compound distribution and its expectation</span><br />\n",
    "\n",
    "Let Y be the sum of independent, identically distributed (i.i.d.) random variables $X_i$, <br>\n",
    "$Y = X_1 + X_2 + ···X_N$ where N is a non-negative integer-valued random variable. We wish to calculate E[Y] <br>\n",
    "$E[Y]=E[E[Y|N]]=E[NE[X]]=E[N][X]$\n",
    "\n",
    "$\\underline{\\text{Reminder: conditional expectation}}$\n",
    "\n",
    "$E[Y|X=x]=\\int_{-∞}^{∞}yf_{Y|X}(y|x)dy \\; \\; \\; E[Y]=\\sum_{∀y}yp_{Y|X}(y|x)$ <br>\n",
    "$E[Y]=E[E[Y|X=x]]=∫_{-\\infty}^{∞}E[Y|X=x]f_x(x)dx$ <br>\n",
    "$=\\int_{-∞}^{∞}\\int_{-∞}^{∞}yf_{Y|X}(y|x)dyf_X(x)dx$ <br>\n",
    "$=\\int_{-∞}^{∞}y\\int_{-∞}^{∞}f_{X,Y}(x,y)dxdy=\\int_{-∞}^{∞}yf_Y(y)dy$ \n",
    "    \n",
    "***"
   ]
  },
  {
   "cell_type": "markdown",
   "metadata": {},
   "source": [
    "<b><span style=\"color:red\">Slide #7</span>\n",
    "<br><span style=\"text-decoration:underline\">Compound distribution and its generating function</span>\n",
    "\n",
    "Let $𝑆_𝑁$ be the sum of independent, identically distributed (i.i.d.) random variables $X_i$,\n",
    "\n",
    "$𝑆_𝑁 = 𝑋_1 + 𝑋_2 + ⋯ + 𝑋_𝑁$ \n",
    "\n",
    "where N is a non-negative integer-valued random variable. Denote\n",
    "<br>$G_X(z)$ the common generating function of the $X_i$ \n",
    "<br>$G_X(z)$ the generating function of N \n",
    "<br>$E[z^{S_N}|N=n]=[𝐺_𝑋(𝑧)]^𝑛 n = 1, 2, 3, ...$ \n",
    "<br>$E[Z^{S_N}]=E[𝑧^{𝑋_1+𝑋_2+⋯+𝑋_𝑁}|N = n]= E[𝑧^{𝑋_1}𝑧^{𝑋_2} … 𝑧^{𝑋_N}|N = n]= E[𝑧^{𝑋_1}] 𝐸[𝑧^{𝑋_2}] … 𝐸[𝑧^{𝑋_N}] = [𝐺_𝑋(𝑧)]^𝑛$ \n",
    "    \n",
    "***"
   ]
  },
  {
   "cell_type": "markdown",
   "metadata": {},
   "source": [
    "<b><span style=\"color:red\">Slide #8</span>\n",
    "<br>We wish to calculate $𝐺_{S_N}(z)$ \n",
    "\n",
    "$𝐺_{S_N}(z)=E[z^{S_N}]=E[E[z^{S_N}|N]]$  <br>\n",
    "$=E[E[Z^{S_N}|N]]$ Law of iterated expectations <br>\n",
    "$=E[G_X(z)^N]$ Using $E[Z^{S_N}|N=n]=[G_X(z)]^n$ <br>\n",
    "$=G_N(G_X(z))$ <br>\n",
    "<br>\n",
    "$G_{S_N}(z)=G_N(G_X(z)) \\; \\;$ Analogy <br>\n",
    "$G_Y(z)=E[z^Y] \\iff G_N(G_X(z))=E[G_X(z)^N]$ \n",
    "    \n",
    "***"
   ]
  },
  {
   "cell_type": "markdown",
   "metadata": {},
   "source": [
    "<b><span style=\"color:red\">Code Section for Slide #6 #7 #8</span>\n",
    "<br><span>see these functions:</span>\n",
    "<br>L5_1_S6_compound_distribution_expected_value\n",
    "<br><span>run \"%% slide 6 & 7 & 8\" partition from:</span>\n",
    "<br>L5_discrete_rv_main\n",
    "    \n",
    "***"
   ]
  },
  {
   "cell_type": "markdown",
   "metadata": {},
   "source": [
    "<b><span style=\"color:red\">Slide #9</span>\n",
    "<br><span style=\"text-decoration:underline\">The distribution of max and min of independent RVs</span>\n",
    "\n",
    "Let $X_1 , X_2 , . . . , X_n$ be independent random variables\n",
    "<br>(distribution functions $F_i(x)$ and tail distributions $G_i(x), i = 1, . . . , n)$ \n",
    "\n",
    "**Distribution of the maximum** \n",
    "<br>$P[max( X_1 , X_2 , . . . , X_n ) ≤ x] = P[X_1 ≤ x, . . . , X_n ≤ x]$\n",
    "<br>$= P[X_1 ≤ x] · · ·P[X_n ≤ x]$ (independence!)\n",
    "<br>$= F_1(x) · · ·F_n(x)$ \n",
    "\n",
    "**Distribution of the minimum** \n",
    "<br>$P[min(X_1 , X_2 , . . . , X_n ) > x] = P[X_1 > x, . . . , X_n > x]$ \n",
    "<br>$= P[X_1 > x] · · ·P[X_n > x]$ (independence!)\n",
    "<br>$= G_1(x) · · ·G_n(x)$ \n",
    "\n",
    "***"
   ]
  },
  {
   "cell_type": "markdown",
   "metadata": {},
   "source": [
    "<b><span style=\"color:red\">Code Section for Slide #9</span>\n",
    "<br><span>see these functions:</span>\n",
    "<br>L5_1_S9_distribution_of_maximum.m\n",
    "<br>L5_1_S9_distribution_of_minimum.m\n",
    "<br><span>run \"%% slide 9\" partition from:</span>\n",
    "<br>L5_discrete_rv_main\n",
    "    \n",
    "***"
   ]
  },
  {
   "cell_type": "markdown",
   "metadata": {},
   "source": [
    "<b><span style=\"color:red\">Slide #10</span>\n",
    "<br><span style=\"text-decoration:underline\">ORDER STATISTICS</span>\n",
    "\n",
    "Let $X_1 , X_2 , . . . , X_n$ be mutually iid continuous RVs, each having the distribution function F and density f.\n",
    "<br>Let $Y_1 , Y_2 , . . . , Y_n$ be a permutation of the set $X_1 , X_2 , . . . , X_n$ so as to be in increasing order. \n",
    "\n",
    "To be specific:\n",
    "<br>$Y_1=min (X_1 , X_2 , . . . , X_n )$ \n",
    "<br>and\n",
    "<br>$Y_n=max (X_1 , X_2 , . . . , X_n )$ \n",
    "<br>$Y_k$ is called the **k-th order statistic**. \n",
    "<br>Since $X_1 , X_2 , . . . , X_n$ are continuous RVs, it follows that\n",
    "<br>$Y_1< Y_2 <, . . . <Y_n$ (as opposed to $Y_1 ≤ Y_2 ≤ . . . ≤ Y_n$ ) with a probability of one. \n",
    "\n",
    "***"
   ]
  },
  {
   "cell_type": "markdown",
   "metadata": {},
   "source": [
    "<b><span style=\"color:red\">Slide #11</span>\n",
    "<br><span style=\"text-decoration:underline\">ORDER STATISTICS</span>\n",
    "<br>As examples of use of order statistics, let X; be the lifetime of the i-th component in a system of n independent components.\n",
    "<br>series system, $Y_1$ is overall system lifetime. $Y_n$ is the lifetime of a parallel system \n",
    "<br>and $Y_{n-m+1}$ is the lifetime of an m-out of-n system (the so-called Ntuple Modular Redundant or NMR system). \n",
    "    \n",
    "***"
   ]
  },
  {
   "cell_type": "markdown",
   "metadata": {},
   "source": [
    "<b><span style=\"color:red\">Slide #12</span>\n",
    "<br><span style=\"text-decoration:underline\">ORDER STATISTICS</span>\n",
    "\n",
    "Deriving the distribution function of $Y_k$\n",
    "<br>the probability that exactly j of the $X_i$'s lie in(-∞, y] and (n - j) lie in (y, ∞ )is:\n",
    "<br>${n \\choose j} F^𝑗(y)[l − F(y)]^{𝑛−𝑗}$\n",
    "<br>since the binomial distribution with parameters n and p = F(y) is applicable. \n",
    "\n",
    "Then:\n",
    "$F_{Y_k}(y) = p (y_k ≤ y) = p$ (\"at least k of the X;'s lie in the interval (-∞, y] “) \n",
    "<br>$=\\sum_{j=k}^{n}{n \\choose j}F^j(y)[l-F(y)]^{n-j} \\; \\; \\; -∞ \\leq y \\leq ∞  \\; \\; (3.52)$ \n",
    "    \n",
    "***"
   ]
  },
  {
   "cell_type": "markdown",
   "metadata": {},
   "source": [
    "<b><span style=\"color:red\">Slide #13</span>\n",
    "<br><span style=\"text-decoration:underline\">ORDER STATISTICS</span>\n",
    "\n",
    "In particular, the distribution functions of $Y_n$ and $Y_1$ ( i.e. max and min ) can be obtained from (3.52) as: \n",
    "\n",
    "$F_{𝑌_k}(y) =[F(y)]^𝑛 \\; \\; \\; \\; \\;   −∞≤ y ≤ ∞$ , \n",
    "<br>$F_{𝑌_1}(y) =1−[1−F(y)]^𝑛 \\;  \\; −∞≤ y ≤ ∞$ \n",
    "\n",
    "Thus we obtain:\n",
    "$R_{series}(t) = Ry_1(t)= 1- F_{𝑌_1}(t) = [1−F(t)]^𝑛 = [R(t)]^𝑛$, \n",
    "<br>$R_{parallel}(t) = Ry_1(t)= 1- F_{𝑌_𝑛}(t) = 1−[F(t)]^𝑛 = 1-[1− R (t)]^𝑛 $ \n",
    "<br>We may generalize above to the case when the lifetime distributions of individual components are distinct: \n",
    "<br>$R_{series}(t) = Ry_1(t)=\\prod_{i=1}^{n}R_{iy_1}(t)$ \n",
    "    \n",
    "***"
   ]
  },
  {
   "cell_type": "markdown",
   "metadata": {},
   "source": [
    "<b><span style=\"color:red\">Code Section for Slide #10 #11 #12 #13</span>\n",
    "<br><span>see these functions:</span>\n",
    "<br>L5_1_S10_order_statistics.m\n",
    "<br><span>run \"%% slide 10 & 11 & 12 & 13\" partition from:</span>\n",
    "<br>L5_discrete_rv_main\n",
    "    \n",
    "***"
   ]
  },
  {
   "cell_type": "markdown",
   "metadata": {},
   "source": [
    "<b><span style=\"color:red\">Slide #14</span><br />\n",
    "### <span>Perf Eval of Comp Systems</span><br />\n",
    "\n",
    "7. Important distributions. We will deal with:\n",
    "<br>discrete distributions:\n",
    "- Bernoulli;\n",
    "- geometric;\n",
    "- binomial;\n",
    "- Poisson.\n",
    "- Negative Binomial; \n",
    "\n",
    "***"
   ]
  },
  {
   "cell_type": "markdown",
   "metadata": {
    "id": "hOnmNZ6To1Uo"
   },
   "source": [
    "<b><span style=\"color:red\">Slide #15</span><br />\n",
    "### <span>Perf Eval of Comp Systems</span><br />\n",
    "#### <span style=\"color: blue\">7.1 The Bernoulli(p)</span> \n",
    "<span>$X \\sim Bernoulli(p)$</span><br>\n",
    "<b>Assume we have one experiment:</b><br>\n",
    "<span>event $A$ occurs with probability p; $Pr[\\{A\\}] = p\\ 0 \\leq p \\leq 1$</span><br>\n",
    "<span>event $A$ does not occur with probability (1 - p); $Pr[\\{\\bar{A}\\}]= 1 - p = q \\quad 0 \\leq p \\leq 1 \\qquad \\Omega=\\{A,\\bar{A}\\}$</span><br>\n",
    "<span>IfX is a r.v. drawn from the Bernoulli(p) distribution, write: X ∼ Bernoulli(p) and we define RV X as:</span>\n",
    "\\begin{equation*}\n",
    "X = \n",
    "\\begin{cases}\n",
    "1 & w/ prob\\ p \\\\\n",
    "0 & otherwise\n",
    "\\end{cases}\n",
    "\\end{equation*}\n",
    "<span>The p.m.f. of r.v. X is defined as:</span>\n",
    "\\begin{align*}\n",
    "P_X(1) &= p \\\\\n",
    "P_X(0) &= 1 - p\n",
    "\\end{align*}\n",
    "***"
   ]
  },
  {
   "cell_type": "code",
   "execution_count": 3,
   "metadata": {
    "id": "1jsTOh0Co1Ur",
    "outputId": "bc0b9412-3c72-4444-e305-0e89ab1e3f00"
   },
   "outputs": [
    {
     "name": "stdout",
     "output_type": "stream",
     "text": [
      "Enter p value: 0.05\n"
     ]
    },
    {
     "data": {
      "image/png": "[encoded data removed]",
      "text/plain": [
       "<Figure size 504x504 with 1 Axes>"
      ]
     },
     "metadata": {
      "needs_background": "light"
     },
     "output_type": "display_data"
    }
   ],
   "source": [
    "# Parameter initialization\n",
    "p = float(input(\"Enter p value: \"))\n",
    "X = [0,1]\n",
    "\n",
    "# Plot configuration\n",
    "plt.figure(figsize=(7,7))\n",
    "plt.xlim(-1,2)\n",
    "plt.bar(X, bernoulli.pmf(X,p), color='orange')\n",
    "plt.title(f'Bernouli Distribution (p = {p})', fontsize='15')\n",
    "plt.xlabel('Values of Random Variable X (0, 1)', fontsize='15')\n",
    "plt.ylabel('Probability', fontsize='15')\n",
    "plt.show()"
   ]
  },
  {
   "cell_type": "markdown",
   "metadata": {},
   "source": [
    "<b><span style=\"color:red\">Slide #16</span>\n",
    "<br><span style=\"text-decoration:underline\">Mean and Variance of a Bernoulli Random Variable</span>\n",
    "\n",
    "The mean is: \n",
    "\n",
    "$μ_X=E(X)=\\sum_X xP(x)=(0)(1-p)+(1)p=p$ \n",
    "\n",
    "And the variance is: \n",
    "\n",
    "$\\sigma_X^2=E[(X-\\mu_x)^2]=\\sum_X(x-\\mu_x)^2P(x)=(0-p)^2(1-p)+(1-p)^2p=p(1-p)$ \n",
    "    \n",
    "***"
   ]
  },
  {
   "cell_type": "markdown",
   "metadata": {},
   "source": [
    "<b><span style=\"color:red\">Slide #17</span>\n",
    "<br><span style=\"text-decoration:underline\">Bernoulli distribution</span>\n",
    "\n",
    "**Example 1.** X describes the bit stream from a traffic source, which is either on or off. The generating function\n",
    "<br>$G(z)= p_0z^0 + p_1z^1 = q+ pz$\n",
    "<br>$E[X]= G^{(1)}(1) = p$ \n",
    "<br>$V[X]= G^{(2)}(1) + G^{(1)}(1)(1 − G^{(1)}(1)) = p(1 − p) = pq$ \n",
    "\n",
    "**Example 2.** The cell stream arriving at an input port of an ATM switch:\n",
    "<br>in a time slot (cell slot) there is a cell with probability p or the slot is empty with probability q. \n",
    "\n",
    "***"
   ]
  },
  {
   "cell_type": "markdown",
   "metadata": {},
   "source": [
    "<b><span style=\"color:red\">Code Section for Slide #15 #16 #17</span>\n",
    "<br><span>see these functions:</span>\n",
    "<br>L5_1_S15_Bernoulli_dist.m\n",
    "<br><span>run \"%% slide 15 & 16 & 17\" partition from:</span>\n",
    "<br>L5_discrete_rv_main\n",
    "    \n",
    "***"
   ]
  },
  {
   "cell_type": "markdown",
   "metadata": {},
   "source": [
    "<b><span style=\"color:red\">Slide #18</span>\n",
    "<br><span style=\"text-decoration:underline\">7.2. Binomial(n,p) distribution </span><br />\n",
    "\n",
    "**Definition:** If X ∼ Binomial(n, p), then X represents the number of successes in n Bernoulli(p) experiments \n",
    "<br>(i.e $X=\\sum_{i=1}^nY_i$ where $Y_i$ ∼Bernoulli(p) and the Yi are independent (i = 1, . . , n) \n",
    "\n",
    "The p.m.f. of r.v. X is defined as follows \n",
    "\n",
    "Pr {𝑋 = 𝑘} = $C_n^kp^k(1-p)^{n-k} \\; \\; k=0, 1, ..., n \\; \\; 0 \\leq p \\leq1$ \n",
    "\n",
    "***"
   ]
  },
  {
   "cell_type": "markdown",
   "metadata": {},
   "source": [
    "<b><span style=\"color:red\">Slide #19</span>\n",
    "<br><span style=\"text-decoration:underline\">Binomial distribution</span><br />\n",
    "\n",
    "The generating function is obtained directly from the generating function q + pz of a Bernoulli variable \n",
    "\n",
    "$G(z)=(q+pz)^n=\\sum_{i=1}^n(n, i)p^i(1-p)^{n-i}z^i$ \n",
    "\n",
    "By identifying the coefficient of $z^i$ we have \n",
    "\n",
    "$p_i = P[X = i] = (n, i)p^i(1-p)^{n-i}$ \n",
    "\n",
    "$E[X] = nE[Y_i] = np$ \n",
    "$V[X] = nV[Y_i] = np(1 −p)$ \n",
    "A limiting form when λ = E[X] = np is fixed and n → ∞: \n",
    "\n",
    "$G(z)=(1-(1-z)p)^n=(1-(1-z)\\frac{λ}{n})^n→e^{(z-1)λ}$ \n",
    "which is the generating function of a Poisson random variable.\n",
    "    \n",
    "***"
   ]
  },
  {
   "cell_type": "markdown",
   "metadata": {},
   "source": [
    "<b><span style=\"color:red\">Code Section for Slide #18 #19</span>\n",
    "<br><span>see these functions:</span>\n",
    "<br>L5_1_S18_Binomial_dist\n",
    "<br>L5_1_S19_Binomial_to_Poisson\n",
    "<br><span>run \"%% slide 18 & 19\" partition from:</span>\n",
    "<br>L5_discrete_rv_main\n",
    "    \n",
    "***"
   ]
  },
  {
   "cell_type": "markdown",
   "metadata": {},
   "source": [
    "<b><span style=\"color:red\">Slide #1</span>\n",
    "<br><span style=\"text-decoration:underline\">The sum of binomially distributed random variables</span><br />\n",
    "\n",
    "Let the $X_i(i = 1, . . . , k)$ be binomially distributed with the same parameter p (but with different $n_i$). Then the distribution of their sum is distributed as \n",
    "\n",
    "$X_1 + ··· + X_k ∼ Bin(n_1 + ··· + n_k ,p)$ \n",
    "\n",
    "because the sum represents the number of successes in a sequence of $n_1 + · · · + n_k$ identical Bernoulli trials. \n",
    "***"
   ]
  },
  {
   "cell_type": "markdown",
   "metadata": {},
   "source": [
    "<b><span style=\"color:red\">Code Section for Slide #1</span>\n",
    "<br><span>see these functions:</span>\n",
    "<br>L5_2_S1_sum_of_binomially_distributd_rv.m\n",
    "<br><span>run \"%% slide 1\" partition from:</span>\n",
    "<br>L5_discrete_rv_main\n",
    "\n",
    "***"
   ]
  },
  {
   "cell_type": "markdown",
   "metadata": {},
   "source": [
    "<b><span style=\"color:red\">Slide #2</span>\n",
    "<br><span style=\"text-decoration:underline\">Multinomial distribution</span><br />\n",
    "\n",
    "Consider a sequence of n identical trials but now each trial has k (k ≥ 2) different outcomes.\n",
    "<br>Let the probabilities of the outcomes in a single experiment be $p_1, p_2, . . . , p_k (\\sum_{i=1}^kpi=1)$ \n",
    "\n",
    "Denote the number of occurrences of outcome i in the sequence by $N_i$. \n",
    "<br>The problem is to calculate the probability $p(n_1, . . . , n_k) = P[N_1 = n_1, . . . , N_k = n_k]$ of the joint event ${N_1 = n_1, . . . , N_k = n_k}$. \n",
    "\n",
    "Define the generating function of the joint distribution of several random variables $N_1, . . . , N_k$ by \n",
    "\n",
    "$G(z_1, . . . , z_k) = E[z_1^{N_1} · ··z_k^{N_k} ] = \\sum_{n_1=0}^{∞}...∑_{n_k=0}^{∞}p(n_1,...,n_k)z_1^{n_1}...z_k^{n_k}$ \n",
    "\n",
    "After one trial one of the $N_i$ is 1 and the others are 0. Thus the generating function corresponding one trial is $(p_1z_1 + ···+ p_kz_k)$. \n",
    "\n",
    "The generating function of n independent trials is the product of the generating functions of a\n",
    "single trial, i.e. $(p_1z_1 + ···+ p_kz_k)^n$. \n",
    "\n",
    "From the coefficients of different powers of the zi variables one identifies:\n",
    "\n",
    "$p(n_1, . . . , n_k) =\\frac{n!}{n_1!...n_k!}p_1^{n_1}...p_k^{n_k}$ \n",
    "    \n",
    "***"
   ]
  },
  {
   "cell_type": "markdown",
   "metadata": {},
   "source": [
    "<b><span style=\"color:red\">Code Section for Slide #2</span>\n",
    "<br><span>see these functions:</span>\n",
    "<br>L5_2_S2_Multinomial_dist.m\n",
    "<br><span> run \"%% slide 2\" partition from:</span>\n",
    "<br>L5_discrete_rv_main\n",
    "    \n",
    "***"
   ]
  },
  {
   "cell_type": "markdown",
   "metadata": {},
   "source": [
    "<b><span style=\"color:red\">Slide #3</span>\n",
    "<br><span style=\"text-decoration:underline\">7.3. Geometric(p) distribution</span><br />\n",
    "$Perf \\; Eval \\; of \\; Comp \\; Systems$ \n",
    "\n",
    "Repeating independent Bernoulli(p) experiments until the first success.\n",
    "<br>p is the probability of success. \n",
    "\n",
    "**Definition**: If X ∼ Geometric(p), then X represents the number of trials until we get a success. The p.m.f. of r.v. X is defined as follows: \n",
    "<br>$p_X (i) = P[X = i] = (1 − p)^{i−1} p,\\; $ where i = 1, 2, 3, . . .\n",
    "\n",
    "Mean and variance take the following form: \n",
    "<br>$E[X]=\\frac{p}{1-p} \\; \\; \\; ; \\; \\; \\;\n",
    "V[X]=\\frac{p}{(1-p)^2}$ \n",
    "\n",
    "***"
   ]
  },
  {
   "cell_type": "markdown",
   "metadata": {},
   "source": [
    "<b><span style=\"color:red\">Slide #4</span>\n",
    "<br><span style=\"text-decoration:underline\">Shifted Geometric distribution** X ∼ Geom(p)</span><br />\n",
    "\n",
    "X represents the number of failures in a sequence of independent Bernoulli trials (with\n",
    "the probability of success p) needed before the first success occurs \n",
    "<br>$p_i = P[X = i] = (1 − p)^ip \\; \\; \\;  i = 0,1, 2, . . .$ \n",
    "\n",
    "$G(z)=p\\sum_{i=0}^{∞}(1-p)^iz^i=\\frac{p}{1-(1-p)z}$ \n",
    "\n",
    "$E[X]=\\frac{1-p}{p}$ \n",
    "<br>$V[X]=\\frac{1-p}{p^2}$ \n",
    "***"
   ]
  },
  {
   "cell_type": "markdown",
   "metadata": {},
   "source": [
    "<b><span style=\"color:red\">Slide #5</span>\n",
    "<br><span style=\"text-decoration:underline\">Geometric distribution X ∼ Geom(p)</span><br />\n",
    "\n",
    "X represents the number of trials in a sequence of independent Bernoulli trials (with the probability of success p) needed until the first success occurs \n",
    "\n",
    "$p_i = P[X = i] = (1 − p)^{i−1}p \\;\\;\\;\\;i = 1, 2, . . .$ \n",
    "<br>Generating function \n",
    "\n",
    "$𝐺(𝑧) = p\\sum_{i=1}^{∞}(1-p)^{i-1}z^i=\\frac{pz}{1-(1-p)z}$\n",
    "\n",
    "This can be used to calculate the expectation and the variance: \n",
    "\n",
    "$E[X]=G'(1)=\\frac{p(1-(1-p)z)+p(1-p)z}{(1-(1-p)z)^2}|_{z=1}=\\frac{1}{p}$ \n",
    "<br>$E[X^2]=G''(1)+G'(1)=\\frac{1}{p}+\\frac{2(1-p)}{p^2}$ \n",
    "<br>$V[X]=E[X^2]-E[X]^2=\\frac{1-p}{p^2}$\n",
    "***"
   ]
  },
  {
   "cell_type": "markdown",
   "metadata": {},
   "source": [
    "<b><span style=\"color:red\">Slide #6</span>\n",
    "<br><span style=\"text-decoration:underline\">Geometric distribution (continued)</span><br />\n",
    "\n",
    "\n",
    "The probability that for the first success one needs more than n trials \n",
    "\n",
    "$P[X>n]=\\sum_{i=n+1}^{∞}p_i=(1-p)^n$ \n",
    "\n",
    "$\\underline{Memoryless\\; property \\;of\\; geometric \\;distribution}$ \n",
    "\n",
    "$P[X>i+j|X>i]=\\frac{P[X>i+j∩X>i]}{P[X>i]}=\\frac{P[X>i+j]}{P[X>i]}=\\frac{(1-p)^{i+j}}{(1-p)^i}=P[X>j]$ \n",
    "\n",
    "If there have been i unsuccessful trials then the probability that for the first success one needs still more than j new trials <br>is the same as the probability that in a completely new sequence of trails one needs more than j trials for the first success. \n",
    "\n",
    "This is as it should be, since the past trials do not have any effect on the future trials, all of which are independent.\n",
    "\n",
    "***"
   ]
  },
  {
   "cell_type": "markdown",
   "metadata": {},
   "source": [
    "<b><span style=\"color:red\">Code Section for Slide #3 #4 #5 #6</span>\n",
    "<br><span>see these functions:</span>\n",
    "<br>L5_2_S3_Geometric_dist.m\n",
    "<br>L5_2_S5_probability_generating_func_derivation1_with_input_mean.m\n",
    "<br>L5_2_S6_is_the_given_probability_distribution_memoryless.m\n",
    "<br><span>run \"%% slide 3 & 4 & 5 & 6\" partition from:</span>\n",
    "<br>L5_discrete_rv_main\n",
    "    \n",
    "***"
   ]
  },
  {
   "cell_type": "markdown",
   "metadata": {},
   "source": [
    "<b><span style=\"color:red\">Slide #7</span>\n",
    "<br><span style=\"text-decoration:underline\">Negative binomial distribution X ∼ NBin(n, p)</span><br />\n",
    "\n",
    "X is the number of trials needed in a sequence of Bernoulli trials needed for n successes. \n",
    "<br>If X = i, then among the first (i − 1) trials there must have been n − 1 successes and the\n",
    "<br>trial i must be a success. Thus, \n",
    "\n",
    "$Pr[X=i]={n-1 \\choose i-1} p^{n-1}(1-p)^{i-n}.p={n-1 \\choose i-1}p^n(1-p)^{i-n} \\; \\; \\; \\;\\; \\; $ \n",
    "\n",
    "The number of trials for the first success ∼ Geom(p). Similarly, the number of trials needed\n",
    "from that point on for the next success etc. Thus, \n",
    "<br>$X = X_1 + ···+ X_n$ where $X_i ∼ Geom(p)$ (i.i.d.) \n",
    "\n",
    "Now, the generating function of the distribution is \n",
    "\n",
    "$G(z)=(\\frac{pz}{1-(1-p)z})^n$\n",
    "The point probabilities given above\n",
    "can also be deduced from this g.f. \n",
    "\n",
    "The expectation and the variance are n times those of the geometric distribution \n",
    "\n",
    "$E[X]=\\frac{n}{p} \\; \\; \\; \\; \\; \\; V[X]=n\\frac{1-p}{P^2}$ \n",
    "    \n",
    "***"
   ]
  },
  {
   "cell_type": "markdown",
   "metadata": {},
   "source": [
    "<b><span style=\"color:red\">Code Section for Slide #7</span>\n",
    "<br><span>see these functions:</span>\n",
    "<br>L5_2_S7_Negative_Binomial_dist.m\n",
    "<br><span>run \"%% slide 7\" partition from:</span>\n",
    "<br>L5_discrete_rv_main\n",
    "    \n",
    "***"
   ]
  },
  {
   "cell_type": "markdown",
   "metadata": {},
   "source": [
    "<b><span style=\"color:red\">Slide #8</span><br>\n",
    "#Perf Eval of Comp Systems \n",
    "\n",
    "**7.4. Poisson(λ) distribution** \n",
    "<br>**Definition**: X is a non-negative integer-valued random variable with the point\n",
    "probabilities \n",
    "\n",
    "$p_i = P[X = i] =\\frac{λ^i}{i!}𝑒^{−λ} \\; \\; \\; i = 0,1,..$ \n",
    "<br>**Mean and variance are as follows**: \n",
    "\n",
    "E[X] = λ, V[X] = λ \n",
    "\n",
    "***"
   ]
  },
  {
   "cell_type": "markdown",
   "metadata": {},
   "source": [
    "<b><span style=\"color:red\">Slide #9</span>\n",
    "<br><span style=\"text-decoration:underline\">Poisson distribution X ∼Poisson(λ)</span><br />\n",
    "$p_i=P[X=i]=\\frac{λ^i}{i!}e^{-λ}$ \n",
    "<br>The generation function \n",
    "<br>$G(z) = \\sum_{i=0}^{∞}p_iz^i=e^{-λ}\\sum_{i=0}{∞}\\frac{(zλ)^i}{i!}=e^{-λ}e^{zλ}$ \n",
    "<br>$G(z)=e^{(z-1)λ}$ \n",
    "<br>As we saw before, this generating function is obtained as a limiting form of the generating\n",
    "<br>function of a Bin(n, p) random variable, when the average number of successes is kept fixed,\n",
    "<br>np = λ, and n tends to infinity. \n",
    "<br>Correspondingly, X ∼ Poisson(λt) represents the number of occurrences of events (e.g. arrivals) in an interval of length t <br>from a Poisson process with intensity λ: \n",
    "<br>• the probability of an event (‘success’) in a small interval dt is λdt \n",
    "<br>• the probability of two simultaneous events is O(λdt) \n",
    "<br>• the number of events in disjoint intervals are independent\n",
    "    \n",
    "***"
   ]
  },
  {
   "cell_type": "markdown",
   "metadata": {},
   "source": [
    "<b><span style=\"color:red\">Slide #10</span>\n",
    "<br><span style=\"text-decoration:underline\">Poisson distribution (continued)</span>\n",
    "\n",
    "Poisson distribution is obeyed by e.g. \n",
    "\n",
    "• The number of arriving calls in a given interval \n",
    "<br>• The number of calls in progress in a large (non-blocking) trunk group \n",
    "\n",
    "Expectation and variance \n",
    "\n",
    "$E[X]=G'(1)=\\frac{d}{dz}e^{(z-1)λ}|_{z=1}=λ$ \n",
    "<br>$E[X^2]=G''(1)+G'(1)=λ^2+λ$ \n",
    "<br>\n",
    "<br>\n",
    "$E[X]=λ \\; \\; \\; \\; \\; \\; \\; V[X]=λ$ \n",
    "    \n",
    "***"
   ]
  },
  {
   "cell_type": "markdown",
   "metadata": {},
   "source": [
    "<b><span style=\"color:red\">Code Section for Slide #8 #9 #10</span>\n",
    "<br><span>see these functions:</span>\n",
    "<br>L5_2_S8_Poisson_dist.m\n",
    "<br><span>run \"%% slide 8 & 9 & 10\" partition from:</span>\n",
    "<br>L5_discrete_rv_main\n",
    "    \n",
    "***"
   ]
  },
  {
   "cell_type": "markdown",
   "metadata": {},
   "source": [
    "<b><span style=\"color:red\">Slide #11</span>\n",
    "<br><span style=\"text-decoration:underline\">Properties of Poisson distribution</span><br />\n",
    "\n",
    "1. The sum of Poisson random variables is Poisson distributed. $X = X_1 + X_2$, where:\n",
    "<br>$X_1 ∼ Poisson(λ_1), X_2 ∼ Poisson(λ_2)⇒ X ∼Poisson(λ_1 + λ_2)$ \n",
    "\n",
    "Proof: \n",
    "<br>$G_{X_1}(z)=e^{(z-1)λ_1}, \\; \\; G_{X_2}(z)=e^{(z-1)λ_2}$ \n",
    "<br>$G_X(z)=G_{X_1}(z)G_{X_2}(z)=e^{(z-1)λ_1}e^{(z-1)λ_2}=e^{(z-1)(λ_1+λ_2)}$ \n",
    "\n",
    "2. If the number, N , of elements in a set obeys Poisson distribution, N ∼ Poisson(λ), and one makes a random selection with probability p (each element is independently selected with this probability), then the size of the selected set K ∼ Poisson(p λ). \n",
    "<br>Proof: K obeys the compound distribution \n",
    "<br>$K = X_1 + ···+ X_N$,where N ∼ Poisson(λ) and $X_i ∼ Bernoulli(p)$ \n",
    "\n",
    "<br>$G_X(z) = (1 − p) + pz, G_N (z) = e^{(z−1)λ}$\n",
    "<br>$G_K(z) = G_N (G_X(z)) = e^{(G_X(z)−1)λ} = e^{[(1−p)+pz−1]λ} = e^{(z−1)pλ}$ \n",
    "    \n",
    "***"
   ]
  },
  {
   "cell_type": "markdown",
   "metadata": {},
   "source": [
    "<b><span style=\"color:red\">Code Section for Slide #11</span>\n",
    "<br><span>see these functions:</span>\n",
    "<br>L5_2_S11_sum_of_piossons.m\n",
    "<br><span>run \"%% slide 11\" partition from:</span>\n",
    "<br>L5_discrete_rv_main\n",
    "    \n",
    "***"
   ]
  },
  {
   "cell_type": "markdown",
   "metadata": {},
   "source": [
    "<b><span style=\"color:red\">Slide #12</span>\n",
    "<br><span style=\"text-decoration:underline\">Properties of Poisson distribution (continued)</span><br />\n",
    "\n",
    "3. If the elements of a set with size N ∼ Poisson(λ) are randomly assigned to one of two groups 1 and 2 with probabilities $p_1$ and $p_2 = 1−p_1$, then the sizes of the sets 1 and 2, $N_1$ and $N_2$, are independent and distributed as $N_1 ∼ Poisson(p_1λ), N_2 ∼ Poisson(p_2λ)$ \n",
    "\n",
    "<br>Proof: By the law of total probability,\n",
    "$P[N_1 = n_1, N_2 = n_2] = \\sum_{n=0}^{∞}P[N_1=n_1, N_2=n_2|N=n]×P[N=n]$\n",
    "<br>$=\\frac{n!}{n_1!n_2!}p_1^{n_1}p_2^{n_2}\\frac{λ^n}{n!}e^{-λ}|_{n=n_1+n_2} = \\frac{p_1^{n_1}p_2^{n_2}}{n_1!n_2!}λ^{n_1+n_2}e^{-λ(p_1+p_2)}$ \n",
    "$=\\frac{(p_1λ)^{n_1}}{n_1!}e^{-p_1λ}×\\frac{(p_2λ)^{n_2}}{n_2!}e^{-p_2λ}=P[N_1=n_1].P[N_2=n_2]$ \n",
    "\n",
    "\n",
    "The joint probability is of product form ⇒ $N_1$ are $N_2$ independent. The factors in the\n",
    "product are point probabilities of Poisson($p_1λ$) and Poisson($p_2λ$) distributions.\n",
    "Note, the result can be generalized for any number of sets. \n",
    "    \n",
    "***"
   ]
  },
  {
   "cell_type": "markdown",
   "metadata": {},
   "source": [
    "<b><span style=\"color:red\">Code Section for Slide #12</span>\n",
    "<br><span>see these functions:</span>\n",
    "<br>L5_2_S11_sum_of_piossons.m\n",
    "<br><span>run \"%% slide 12\" partition from:</span>\n",
    "<br>L5_discrete_rv_main\n",
    "    \n",
    "***"
   ]
  },
  {
   "cell_type": "markdown",
   "metadata": {},
   "source": [
    "<b><span style=\"color:red\">Slide #13</span><br>\n",
    "#Perf Eval of Comp Systems\n",
    "    \n",
    "**7.5 Generating function of the complementary distribution** \n",
    "\n",
    "Let X be a random variable that assumes integer k with probability $𝑝_𝑘$ and let $𝑞_𝑘$ be the distribution for its tails: \n",
    "\n",
    "$𝑞_𝑘 = P[X >k] =𝑝_{𝑘+1} + 𝑝_{𝑘+2} + ⋯$ \n",
    "\n",
    "We denote the PGF of {$𝑝_𝑘$} by P(z) and the generating function of {$𝑞_𝑘$} by Q(z). Then it is not difficult to find the following simple\n",
    "relation: \n",
    "\n",
    "$Q(z)=\\frac{1-p(z)}{1-z}$\n",
    "\n",
    "***"
   ]
  },
  {
   "cell_type": "markdown",
   "metadata": {},
   "source": [
    "<b><span style=\"color:red\">Code Section for Slide #13</span>\n",
    "<br><span>see these functions:</span>\n",
    "<br>L5_2_S13_generating_func_of_complementary_distribution.m\n",
    "<br><span>run \"%% slide 13\" partition from:</span>\n",
    "<br>L5_discrete_rv_main\n",
    "    \n",
    "***"
   ]
  }
 ],
 "metadata": {
  "colab": {
   "collapsed_sections": [],
   "name": "Taban_Soleymani_StudentNumber_HomeworkBonus(1).ipynb",
   "provenance": []
  },
  "kernelspec": {
   "display_name": "Python 3 (ipykernel)",
   "language": "python",
   "name": "python3"
  },
  "language_info": {
   "codemirror_mode": {
    "name": "ipython",
    "version": 3
   },
   "file_extension": ".py",
   "mimetype": "text/x-python",
   "name": "python",
   "nbconvert_exporter": "python",
   "pygments_lexer": "ipython3",
   "version": "3.9.6"
  },
  "vscode": {
   "interpreter": {
    "hash": "690fcc030dbde6f3f652c519b06a0d95da528e66105ed58c88e506e5818277cb"
   }
  }
 },
 "nbformat": 4,
 "nbformat_minor": 1
}
